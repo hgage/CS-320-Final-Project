{
 "cells": [
  {
   "cell_type": "code",
   "execution_count": 1,
   "metadata": {},
   "outputs": [],
   "source": [
    "import pandas as pd\n",
    "from matplotlib import pyplot as plt\n",
    "import numpy as np\n",
    "import math"
   ]
  },
  {
   "cell_type": "code",
   "execution_count": 2,
   "metadata": {},
   "outputs": [],
   "source": [
    "cancer_rates = pd.read_csv(\"Cancer Rates.csv\")\n",
    "cancer_rates_by_race = pd.read_csv(\"Cancer Rates Race.csv\")\n",
    "funding_data = pd.read_csv(\"Funding Data.csv\")\n",
    "\n",
    "for idx, row in cancer_rates.iterrows():\n",
    "    # drop rows with unreliable data\n",
    "    if \"Unreliable\" in row[\"Mortality-Incidence Age-Adjusted Rate Ratio\"]:\n",
    "        cancer_rates = cancer_rates.drop(idx)\n",
    "\n",
    "# convert Mortality-Incidence Age-Adjusted Rate Ratio column to floats\n",
    "cancer_rates[\"Mortality-Incidence Age-Adjusted Rate Ratio\"] = cancer_rates[\"Mortality-Incidence Age-Adjusted Rate Ratio\"].astype('float')\n",
    "cancer_rates[\"Year\"] = cancer_rates[\"Year\"].astype('int')"
   ]
  },
  {
   "cell_type": "code",
   "execution_count": 3,
   "metadata": {},
   "outputs": [
    {
     "data": {
      "text/html": [
       "<div>\n",
       "<style scoped>\n",
       "    .dataframe tbody tr th:only-of-type {\n",
       "        vertical-align: middle;\n",
       "    }\n",
       "\n",
       "    .dataframe tbody tr th {\n",
       "        vertical-align: top;\n",
       "    }\n",
       "\n",
       "    .dataframe thead th {\n",
       "        text-align: right;\n",
       "    }\n",
       "</style>\n",
       "<table border=\"1\" class=\"dataframe\">\n",
       "  <thead>\n",
       "    <tr style=\"text-align: right;\">\n",
       "      <th></th>\n",
       "      <th>Leading Cancer Sites</th>\n",
       "      <th>Year</th>\n",
       "      <th>State</th>\n",
       "      <th>Mortality-Incidence Age-Adjusted Rate Ratio</th>\n",
       "      <th>Mortality Age-Adjusted Rate (per 100,000)</th>\n",
       "      <th>Incidence Age-Adjusted Rate (per 100,000)</th>\n",
       "    </tr>\n",
       "  </thead>\n",
       "  <tbody>\n",
       "    <tr>\n",
       "      <th>10142</th>\n",
       "      <td>Melanoma of the Skin</td>\n",
       "      <td>2002</td>\n",
       "      <td>Alabama</td>\n",
       "      <td>0.203</td>\n",
       "      <td>2.738</td>\n",
       "      <td>13.486</td>\n",
       "    </tr>\n",
       "    <tr>\n",
       "      <th>10143</th>\n",
       "      <td>Melanoma of the Skin</td>\n",
       "      <td>2002</td>\n",
       "      <td>Arizona</td>\n",
       "      <td>0.154</td>\n",
       "      <td>3.055</td>\n",
       "      <td>19.789</td>\n",
       "    </tr>\n",
       "    <tr>\n",
       "      <th>10144</th>\n",
       "      <td>Melanoma of the Skin</td>\n",
       "      <td>2002</td>\n",
       "      <td>Arkansas</td>\n",
       "      <td>0.198</td>\n",
       "      <td>2.140</td>\n",
       "      <td>10.810</td>\n",
       "    </tr>\n",
       "    <tr>\n",
       "      <th>10145</th>\n",
       "      <td>Melanoma of the Skin</td>\n",
       "      <td>2002</td>\n",
       "      <td>California</td>\n",
       "      <td>0.131</td>\n",
       "      <td>2.478</td>\n",
       "      <td>18.861</td>\n",
       "    </tr>\n",
       "    <tr>\n",
       "      <th>10146</th>\n",
       "      <td>Melanoma of the Skin</td>\n",
       "      <td>2002</td>\n",
       "      <td>Colorado</td>\n",
       "      <td>0.127</td>\n",
       "      <td>2.716</td>\n",
       "      <td>21.456</td>\n",
       "    </tr>\n",
       "    <tr>\n",
       "      <th>10147</th>\n",
       "      <td>Melanoma of the Skin</td>\n",
       "      <td>2002</td>\n",
       "      <td>Connecticut</td>\n",
       "      <td>0.118</td>\n",
       "      <td>2.475</td>\n",
       "      <td>20.897</td>\n",
       "    </tr>\n",
       "    <tr>\n",
       "      <th>10148</th>\n",
       "      <td>Melanoma of the Skin</td>\n",
       "      <td>2002</td>\n",
       "      <td>Delaware</td>\n",
       "      <td>0.179</td>\n",
       "      <td>2.882</td>\n",
       "      <td>16.110</td>\n",
       "    </tr>\n",
       "    <tr>\n",
       "      <th>10149</th>\n",
       "      <td>Melanoma of the Skin</td>\n",
       "      <td>2002</td>\n",
       "      <td>Florida</td>\n",
       "      <td>0.143</td>\n",
       "      <td>2.771</td>\n",
       "      <td>19.376</td>\n",
       "    </tr>\n",
       "    <tr>\n",
       "      <th>10150</th>\n",
       "      <td>Melanoma of the Skin</td>\n",
       "      <td>2002</td>\n",
       "      <td>Georgia</td>\n",
       "      <td>0.130</td>\n",
       "      <td>2.571</td>\n",
       "      <td>19.765</td>\n",
       "    </tr>\n",
       "    <tr>\n",
       "      <th>10151</th>\n",
       "      <td>Melanoma of the Skin</td>\n",
       "      <td>2002</td>\n",
       "      <td>Hawaii</td>\n",
       "      <td>0.096</td>\n",
       "      <td>1.672</td>\n",
       "      <td>17.340</td>\n",
       "    </tr>\n",
       "    <tr>\n",
       "      <th>10152</th>\n",
       "      <td>Melanoma of the Skin</td>\n",
       "      <td>2002</td>\n",
       "      <td>Idaho</td>\n",
       "      <td>0.163</td>\n",
       "      <td>3.402</td>\n",
       "      <td>20.854</td>\n",
       "    </tr>\n",
       "    <tr>\n",
       "      <th>10153</th>\n",
       "      <td>Melanoma of the Skin</td>\n",
       "      <td>2002</td>\n",
       "      <td>Illinois</td>\n",
       "      <td>0.185</td>\n",
       "      <td>2.488</td>\n",
       "      <td>13.457</td>\n",
       "    </tr>\n",
       "    <tr>\n",
       "      <th>10154</th>\n",
       "      <td>Melanoma of the Skin</td>\n",
       "      <td>2002</td>\n",
       "      <td>Indiana</td>\n",
       "      <td>0.173</td>\n",
       "      <td>2.968</td>\n",
       "      <td>17.118</td>\n",
       "    </tr>\n",
       "    <tr>\n",
       "      <th>10155</th>\n",
       "      <td>Melanoma of the Skin</td>\n",
       "      <td>2002</td>\n",
       "      <td>Iowa</td>\n",
       "      <td>0.119</td>\n",
       "      <td>2.246</td>\n",
       "      <td>18.801</td>\n",
       "    </tr>\n",
       "    <tr>\n",
       "      <th>10156</th>\n",
       "      <td>Melanoma of the Skin</td>\n",
       "      <td>2002</td>\n",
       "      <td>Kansas</td>\n",
       "      <td>0.108</td>\n",
       "      <td>2.004</td>\n",
       "      <td>18.624</td>\n",
       "    </tr>\n",
       "    <tr>\n",
       "      <th>10157</th>\n",
       "      <td>Melanoma of the Skin</td>\n",
       "      <td>2002</td>\n",
       "      <td>Kentucky</td>\n",
       "      <td>0.162</td>\n",
       "      <td>3.093</td>\n",
       "      <td>19.054</td>\n",
       "    </tr>\n",
       "    <tr>\n",
       "      <th>10158</th>\n",
       "      <td>Melanoma of the Skin</td>\n",
       "      <td>2002</td>\n",
       "      <td>Louisiana</td>\n",
       "      <td>0.222</td>\n",
       "      <td>2.460</td>\n",
       "      <td>11.074</td>\n",
       "    </tr>\n",
       "    <tr>\n",
       "      <th>10159</th>\n",
       "      <td>Melanoma of the Skin</td>\n",
       "      <td>2002</td>\n",
       "      <td>Maine</td>\n",
       "      <td>0.162</td>\n",
       "      <td>3.484</td>\n",
       "      <td>21.494</td>\n",
       "    </tr>\n",
       "    <tr>\n",
       "      <th>10160</th>\n",
       "      <td>Melanoma of the Skin</td>\n",
       "      <td>2002</td>\n",
       "      <td>Maryland</td>\n",
       "      <td>0.128</td>\n",
       "      <td>2.785</td>\n",
       "      <td>21.705</td>\n",
       "    </tr>\n",
       "    <tr>\n",
       "      <th>10161</th>\n",
       "      <td>Melanoma of the Skin</td>\n",
       "      <td>2002</td>\n",
       "      <td>Massachusetts</td>\n",
       "      <td>0.119</td>\n",
       "      <td>2.688</td>\n",
       "      <td>22.662</td>\n",
       "    </tr>\n",
       "    <tr>\n",
       "      <th>10162</th>\n",
       "      <td>Melanoma of the Skin</td>\n",
       "      <td>2002</td>\n",
       "      <td>Michigan</td>\n",
       "      <td>0.127</td>\n",
       "      <td>2.379</td>\n",
       "      <td>18.738</td>\n",
       "    </tr>\n",
       "    <tr>\n",
       "      <th>10163</th>\n",
       "      <td>Melanoma of the Skin</td>\n",
       "      <td>2002</td>\n",
       "      <td>Minnesota</td>\n",
       "      <td>0.134</td>\n",
       "      <td>2.276</td>\n",
       "      <td>16.956</td>\n",
       "    </tr>\n",
       "    <tr>\n",
       "      <th>10164</th>\n",
       "      <td>Melanoma of the Skin</td>\n",
       "      <td>2002</td>\n",
       "      <td>Missouri</td>\n",
       "      <td>0.227</td>\n",
       "      <td>2.886</td>\n",
       "      <td>12.699</td>\n",
       "    </tr>\n",
       "    <tr>\n",
       "      <th>10165</th>\n",
       "      <td>Melanoma of the Skin</td>\n",
       "      <td>2002</td>\n",
       "      <td>Montana</td>\n",
       "      <td>0.170</td>\n",
       "      <td>2.871</td>\n",
       "      <td>16.888</td>\n",
       "    </tr>\n",
       "    <tr>\n",
       "      <th>10166</th>\n",
       "      <td>Melanoma of the Skin</td>\n",
       "      <td>2002</td>\n",
       "      <td>Nebraska</td>\n",
       "      <td>0.174</td>\n",
       "      <td>3.049</td>\n",
       "      <td>17.529</td>\n",
       "    </tr>\n",
       "    <tr>\n",
       "      <th>10167</th>\n",
       "      <td>Melanoma of the Skin</td>\n",
       "      <td>2002</td>\n",
       "      <td>Nevada</td>\n",
       "      <td>0.162</td>\n",
       "      <td>2.835</td>\n",
       "      <td>17.475</td>\n",
       "    </tr>\n",
       "    <tr>\n",
       "      <th>10168</th>\n",
       "      <td>Melanoma of the Skin</td>\n",
       "      <td>2002</td>\n",
       "      <td>New Hampshire</td>\n",
       "      <td>0.133</td>\n",
       "      <td>3.923</td>\n",
       "      <td>29.449</td>\n",
       "    </tr>\n",
       "    <tr>\n",
       "      <th>10169</th>\n",
       "      <td>Melanoma of the Skin</td>\n",
       "      <td>2002</td>\n",
       "      <td>New Jersey</td>\n",
       "      <td>0.128</td>\n",
       "      <td>2.669</td>\n",
       "      <td>20.794</td>\n",
       "    </tr>\n",
       "    <tr>\n",
       "      <th>10170</th>\n",
       "      <td>Melanoma of the Skin</td>\n",
       "      <td>2002</td>\n",
       "      <td>New Mexico</td>\n",
       "      <td>0.122</td>\n",
       "      <td>2.180</td>\n",
       "      <td>17.796</td>\n",
       "    </tr>\n",
       "    <tr>\n",
       "      <th>10171</th>\n",
       "      <td>Melanoma of the Skin</td>\n",
       "      <td>2002</td>\n",
       "      <td>New York</td>\n",
       "      <td>0.165</td>\n",
       "      <td>2.173</td>\n",
       "      <td>13.137</td>\n",
       "    </tr>\n",
       "    <tr>\n",
       "      <th>10172</th>\n",
       "      <td>Melanoma of the Skin</td>\n",
       "      <td>2002</td>\n",
       "      <td>North Carolina</td>\n",
       "      <td>0.170</td>\n",
       "      <td>2.757</td>\n",
       "      <td>16.240</td>\n",
       "    </tr>\n",
       "    <tr>\n",
       "      <th>10173</th>\n",
       "      <td>Melanoma of the Skin</td>\n",
       "      <td>2002</td>\n",
       "      <td>Ohio</td>\n",
       "      <td>0.153</td>\n",
       "      <td>2.571</td>\n",
       "      <td>16.844</td>\n",
       "    </tr>\n",
       "    <tr>\n",
       "      <th>10174</th>\n",
       "      <td>Melanoma of the Skin</td>\n",
       "      <td>2002</td>\n",
       "      <td>Oklahoma</td>\n",
       "      <td>0.234</td>\n",
       "      <td>3.471</td>\n",
       "      <td>14.805</td>\n",
       "    </tr>\n",
       "    <tr>\n",
       "      <th>10175</th>\n",
       "      <td>Melanoma of the Skin</td>\n",
       "      <td>2002</td>\n",
       "      <td>Oregon</td>\n",
       "      <td>0.139</td>\n",
       "      <td>3.291</td>\n",
       "      <td>23.698</td>\n",
       "    </tr>\n",
       "    <tr>\n",
       "      <th>10176</th>\n",
       "      <td>Melanoma of the Skin</td>\n",
       "      <td>2002</td>\n",
       "      <td>Pennsylvania</td>\n",
       "      <td>0.160</td>\n",
       "      <td>2.750</td>\n",
       "      <td>17.192</td>\n",
       "    </tr>\n",
       "    <tr>\n",
       "      <th>10177</th>\n",
       "      <td>Melanoma of the Skin</td>\n",
       "      <td>2002</td>\n",
       "      <td>Rhode Island</td>\n",
       "      <td>0.098</td>\n",
       "      <td>2.612</td>\n",
       "      <td>26.656</td>\n",
       "    </tr>\n",
       "    <tr>\n",
       "      <th>10178</th>\n",
       "      <td>Melanoma of the Skin</td>\n",
       "      <td>2002</td>\n",
       "      <td>South Carolina</td>\n",
       "      <td>0.128</td>\n",
       "      <td>2.536</td>\n",
       "      <td>19.837</td>\n",
       "    </tr>\n",
       "    <tr>\n",
       "      <th>10179</th>\n",
       "      <td>Melanoma of the Skin</td>\n",
       "      <td>2002</td>\n",
       "      <td>South Dakota</td>\n",
       "      <td>0.101</td>\n",
       "      <td>1.882</td>\n",
       "      <td>18.680</td>\n",
       "    </tr>\n",
       "    <tr>\n",
       "      <th>10180</th>\n",
       "      <td>Melanoma of the Skin</td>\n",
       "      <td>2002</td>\n",
       "      <td>Tennessee</td>\n",
       "      <td>0.233</td>\n",
       "      <td>2.696</td>\n",
       "      <td>11.589</td>\n",
       "    </tr>\n",
       "    <tr>\n",
       "      <th>10181</th>\n",
       "      <td>Melanoma of the Skin</td>\n",
       "      <td>2002</td>\n",
       "      <td>Texas</td>\n",
       "      <td>0.174</td>\n",
       "      <td>2.549</td>\n",
       "      <td>14.646</td>\n",
       "    </tr>\n",
       "    <tr>\n",
       "      <th>10182</th>\n",
       "      <td>Melanoma of the Skin</td>\n",
       "      <td>2002</td>\n",
       "      <td>Utah</td>\n",
       "      <td>0.163</td>\n",
       "      <td>3.403</td>\n",
       "      <td>20.925</td>\n",
       "    </tr>\n",
       "    <tr>\n",
       "      <th>10183</th>\n",
       "      <td>Melanoma of the Skin</td>\n",
       "      <td>2002</td>\n",
       "      <td>Vermont</td>\n",
       "      <td>0.126</td>\n",
       "      <td>3.355</td>\n",
       "      <td>26.592</td>\n",
       "    </tr>\n",
       "    <tr>\n",
       "      <th>10184</th>\n",
       "      <td>Melanoma of the Skin</td>\n",
       "      <td>2002</td>\n",
       "      <td>Virginia</td>\n",
       "      <td>0.166</td>\n",
       "      <td>2.892</td>\n",
       "      <td>17.375</td>\n",
       "    </tr>\n",
       "    <tr>\n",
       "      <th>10185</th>\n",
       "      <td>Melanoma of the Skin</td>\n",
       "      <td>2002</td>\n",
       "      <td>Washington</td>\n",
       "      <td>0.116</td>\n",
       "      <td>2.613</td>\n",
       "      <td>22.457</td>\n",
       "    </tr>\n",
       "    <tr>\n",
       "      <th>10186</th>\n",
       "      <td>Melanoma of the Skin</td>\n",
       "      <td>2002</td>\n",
       "      <td>West Virginia</td>\n",
       "      <td>0.157</td>\n",
       "      <td>2.665</td>\n",
       "      <td>16.934</td>\n",
       "    </tr>\n",
       "    <tr>\n",
       "      <th>10187</th>\n",
       "      <td>Melanoma of the Skin</td>\n",
       "      <td>2002</td>\n",
       "      <td>Wisconsin</td>\n",
       "      <td>0.163</td>\n",
       "      <td>2.490</td>\n",
       "      <td>15.234</td>\n",
       "    </tr>\n",
       "    <tr>\n",
       "      <th>10188</th>\n",
       "      <td>Melanoma of the Skin</td>\n",
       "      <td>2002</td>\n",
       "      <td>Wyoming</td>\n",
       "      <td>0.204</td>\n",
       "      <td>3.241</td>\n",
       "      <td>15.860</td>\n",
       "    </tr>\n",
       "  </tbody>\n",
       "</table>\n",
       "</div>"
      ],
      "text/plain": [
       "       Leading Cancer Sites  Year           State  \\\n",
       "10142  Melanoma of the Skin  2002         Alabama   \n",
       "10143  Melanoma of the Skin  2002         Arizona   \n",
       "10144  Melanoma of the Skin  2002        Arkansas   \n",
       "10145  Melanoma of the Skin  2002      California   \n",
       "10146  Melanoma of the Skin  2002        Colorado   \n",
       "10147  Melanoma of the Skin  2002     Connecticut   \n",
       "10148  Melanoma of the Skin  2002        Delaware   \n",
       "10149  Melanoma of the Skin  2002         Florida   \n",
       "10150  Melanoma of the Skin  2002         Georgia   \n",
       "10151  Melanoma of the Skin  2002          Hawaii   \n",
       "10152  Melanoma of the Skin  2002           Idaho   \n",
       "10153  Melanoma of the Skin  2002        Illinois   \n",
       "10154  Melanoma of the Skin  2002         Indiana   \n",
       "10155  Melanoma of the Skin  2002            Iowa   \n",
       "10156  Melanoma of the Skin  2002          Kansas   \n",
       "10157  Melanoma of the Skin  2002        Kentucky   \n",
       "10158  Melanoma of the Skin  2002       Louisiana   \n",
       "10159  Melanoma of the Skin  2002           Maine   \n",
       "10160  Melanoma of the Skin  2002        Maryland   \n",
       "10161  Melanoma of the Skin  2002   Massachusetts   \n",
       "10162  Melanoma of the Skin  2002        Michigan   \n",
       "10163  Melanoma of the Skin  2002       Minnesota   \n",
       "10164  Melanoma of the Skin  2002        Missouri   \n",
       "10165  Melanoma of the Skin  2002         Montana   \n",
       "10166  Melanoma of the Skin  2002        Nebraska   \n",
       "10167  Melanoma of the Skin  2002          Nevada   \n",
       "10168  Melanoma of the Skin  2002   New Hampshire   \n",
       "10169  Melanoma of the Skin  2002      New Jersey   \n",
       "10170  Melanoma of the Skin  2002      New Mexico   \n",
       "10171  Melanoma of the Skin  2002        New York   \n",
       "10172  Melanoma of the Skin  2002  North Carolina   \n",
       "10173  Melanoma of the Skin  2002            Ohio   \n",
       "10174  Melanoma of the Skin  2002        Oklahoma   \n",
       "10175  Melanoma of the Skin  2002          Oregon   \n",
       "10176  Melanoma of the Skin  2002    Pennsylvania   \n",
       "10177  Melanoma of the Skin  2002    Rhode Island   \n",
       "10178  Melanoma of the Skin  2002  South Carolina   \n",
       "10179  Melanoma of the Skin  2002    South Dakota   \n",
       "10180  Melanoma of the Skin  2002       Tennessee   \n",
       "10181  Melanoma of the Skin  2002           Texas   \n",
       "10182  Melanoma of the Skin  2002            Utah   \n",
       "10183  Melanoma of the Skin  2002         Vermont   \n",
       "10184  Melanoma of the Skin  2002        Virginia   \n",
       "10185  Melanoma of the Skin  2002      Washington   \n",
       "10186  Melanoma of the Skin  2002   West Virginia   \n",
       "10187  Melanoma of the Skin  2002       Wisconsin   \n",
       "10188  Melanoma of the Skin  2002         Wyoming   \n",
       "\n",
       "       Mortality-Incidence Age-Adjusted Rate Ratio  \\\n",
       "10142                                        0.203   \n",
       "10143                                        0.154   \n",
       "10144                                        0.198   \n",
       "10145                                        0.131   \n",
       "10146                                        0.127   \n",
       "10147                                        0.118   \n",
       "10148                                        0.179   \n",
       "10149                                        0.143   \n",
       "10150                                        0.130   \n",
       "10151                                        0.096   \n",
       "10152                                        0.163   \n",
       "10153                                        0.185   \n",
       "10154                                        0.173   \n",
       "10155                                        0.119   \n",
       "10156                                        0.108   \n",
       "10157                                        0.162   \n",
       "10158                                        0.222   \n",
       "10159                                        0.162   \n",
       "10160                                        0.128   \n",
       "10161                                        0.119   \n",
       "10162                                        0.127   \n",
       "10163                                        0.134   \n",
       "10164                                        0.227   \n",
       "10165                                        0.170   \n",
       "10166                                        0.174   \n",
       "10167                                        0.162   \n",
       "10168                                        0.133   \n",
       "10169                                        0.128   \n",
       "10170                                        0.122   \n",
       "10171                                        0.165   \n",
       "10172                                        0.170   \n",
       "10173                                        0.153   \n",
       "10174                                        0.234   \n",
       "10175                                        0.139   \n",
       "10176                                        0.160   \n",
       "10177                                        0.098   \n",
       "10178                                        0.128   \n",
       "10179                                        0.101   \n",
       "10180                                        0.233   \n",
       "10181                                        0.174   \n",
       "10182                                        0.163   \n",
       "10183                                        0.126   \n",
       "10184                                        0.166   \n",
       "10185                                        0.116   \n",
       "10186                                        0.157   \n",
       "10187                                        0.163   \n",
       "10188                                        0.204   \n",
       "\n",
       "       Mortality Age-Adjusted Rate (per 100,000)  \\\n",
       "10142                                      2.738   \n",
       "10143                                      3.055   \n",
       "10144                                      2.140   \n",
       "10145                                      2.478   \n",
       "10146                                      2.716   \n",
       "10147                                      2.475   \n",
       "10148                                      2.882   \n",
       "10149                                      2.771   \n",
       "10150                                      2.571   \n",
       "10151                                      1.672   \n",
       "10152                                      3.402   \n",
       "10153                                      2.488   \n",
       "10154                                      2.968   \n",
       "10155                                      2.246   \n",
       "10156                                      2.004   \n",
       "10157                                      3.093   \n",
       "10158                                      2.460   \n",
       "10159                                      3.484   \n",
       "10160                                      2.785   \n",
       "10161                                      2.688   \n",
       "10162                                      2.379   \n",
       "10163                                      2.276   \n",
       "10164                                      2.886   \n",
       "10165                                      2.871   \n",
       "10166                                      3.049   \n",
       "10167                                      2.835   \n",
       "10168                                      3.923   \n",
       "10169                                      2.669   \n",
       "10170                                      2.180   \n",
       "10171                                      2.173   \n",
       "10172                                      2.757   \n",
       "10173                                      2.571   \n",
       "10174                                      3.471   \n",
       "10175                                      3.291   \n",
       "10176                                      2.750   \n",
       "10177                                      2.612   \n",
       "10178                                      2.536   \n",
       "10179                                      1.882   \n",
       "10180                                      2.696   \n",
       "10181                                      2.549   \n",
       "10182                                      3.403   \n",
       "10183                                      3.355   \n",
       "10184                                      2.892   \n",
       "10185                                      2.613   \n",
       "10186                                      2.665   \n",
       "10187                                      2.490   \n",
       "10188                                      3.241   \n",
       "\n",
       "       Incidence Age-Adjusted Rate (per 100,000)  \n",
       "10142                                     13.486  \n",
       "10143                                     19.789  \n",
       "10144                                     10.810  \n",
       "10145                                     18.861  \n",
       "10146                                     21.456  \n",
       "10147                                     20.897  \n",
       "10148                                     16.110  \n",
       "10149                                     19.376  \n",
       "10150                                     19.765  \n",
       "10151                                     17.340  \n",
       "10152                                     20.854  \n",
       "10153                                     13.457  \n",
       "10154                                     17.118  \n",
       "10155                                     18.801  \n",
       "10156                                     18.624  \n",
       "10157                                     19.054  \n",
       "10158                                     11.074  \n",
       "10159                                     21.494  \n",
       "10160                                     21.705  \n",
       "10161                                     22.662  \n",
       "10162                                     18.738  \n",
       "10163                                     16.956  \n",
       "10164                                     12.699  \n",
       "10165                                     16.888  \n",
       "10166                                     17.529  \n",
       "10167                                     17.475  \n",
       "10168                                     29.449  \n",
       "10169                                     20.794  \n",
       "10170                                     17.796  \n",
       "10171                                     13.137  \n",
       "10172                                     16.240  \n",
       "10173                                     16.844  \n",
       "10174                                     14.805  \n",
       "10175                                     23.698  \n",
       "10176                                     17.192  \n",
       "10177                                     26.656  \n",
       "10178                                     19.837  \n",
       "10179                                     18.680  \n",
       "10180                                     11.589  \n",
       "10181                                     14.646  \n",
       "10182                                     20.925  \n",
       "10183                                     26.592  \n",
       "10184                                     17.375  \n",
       "10185                                     22.457  \n",
       "10186                                     16.934  \n",
       "10187                                     15.234  \n",
       "10188                                     15.860  "
      ]
     },
     "execution_count": 3,
     "metadata": {},
     "output_type": "execute_result"
    }
   ],
   "source": [
    "mel = cancer_rates[cancer_rates[\"Leading Cancer Sites\"] == \"Melanoma of the Skin\"]\n",
    "mel[mel[\"Year\"] == 2002]"
   ]
  },
  {
   "cell_type": "code",
   "execution_count": 4,
   "metadata": {},
   "outputs": [],
   "source": [
    "totalratesbyrace = cancer_rates_by_race[5114:]\n",
    "cancerratesbyrace = cancer_rates_by_race[:5040]"
   ]
  },
  {
   "cell_type": "code",
   "execution_count": null,
   "metadata": {},
   "outputs": [],
   "source": []
  },
  {
   "cell_type": "code",
   "execution_count": 5,
   "metadata": {},
   "outputs": [],
   "source": [
    "leading_cancer_sites = []\n",
    "for idx, row in cancer_rates.iterrows():\n",
    "    if row[\"Leading Cancer Sites\"] not in leading_cancer_sites:\n",
    "        leading_cancer_sites.append(row[\"Leading Cancer Sites\"])\n",
    "\n",
    "years = []\n",
    "for idx, row in cancer_rates.iterrows():\n",
    "    if row[\"Year\"] not in years:\n",
    "        years.append(row[\"Year\"])\n",
    "        \n",
    "races = [\"White\", \"Black or African American\", \"Asian or Pacific Islander\", \"American Indian or Alaska Native\"]\n",
    "\n",
    "regions = list(set(list(cancerratesbyrace[\"Region\"])))\n",
    "\n",
    "states = list(set(list(cancer_rates[\"State\"])))"
   ]
  },
  {
   "cell_type": "code",
   "execution_count": null,
   "metadata": {},
   "outputs": [],
   "source": []
  },
  {
   "cell_type": "code",
   "execution_count": 6,
   "metadata": {},
   "outputs": [],
   "source": [
    "def incbyrace(race, year):\n",
    "    racedict = {}\n",
    "    year = str(year)\n",
    "    raceyear = cancerratesbyrace[cancerratesbyrace[\"Year\"] == year]\n",
    "    racecancer = raceyear[raceyear[\"Race\"] == race]\n",
    "    for cancer in leading_cancer_sites:\n",
    "        racedict[cancer] = 0\n",
    "        for i in range(len(racecancer)):\n",
    "            if racecancer.iloc[i][\"Leading Cancer Sites\"] == cancer:\n",
    "                racedict[cancer] += racecancer.iloc[i][\"Incidence Age-Adjusted Rate (per 100,000)\"]\n",
    "    return racedict\n",
    "\n",
    "def mortbyrace(race, year):\n",
    "    racedict = {}\n",
    "    year = str(year)\n",
    "    raceyear = cancerratesbyrace[cancerratesbyrace[\"Year\"] == year]\n",
    "    racecancer = raceyear[raceyear[\"Race\"] == race]\n",
    "    for cancer in leading_cancer_sites:\n",
    "        racedict[cancer] = 0\n",
    "        for i in range(len(racecancer)):\n",
    "            if racecancer.iloc[i][\"Leading Cancer Sites\"] == cancer:\n",
    "                racedict[cancer] += racecancer.iloc[i][\"Mortality Age-Adjusted Rate (per 100,000)\"]\n",
    "    return racedict    "
   ]
  },
  {
   "cell_type": "code",
   "execution_count": 7,
   "metadata": {},
   "outputs": [],
   "source": [
    "mortdict = {}\n",
    "incdict = {}\n",
    "for race in races:\n",
    "    mortdict[race] = mortbyrace(race, \"2016\")\n",
    "    incdict[race] = incbyrace(race, \"2016\")"
   ]
  },
  {
   "cell_type": "code",
   "execution_count": 8,
   "metadata": {},
   "outputs": [],
   "source": [
    "mortdf = pd.DataFrame(mortdict)\n",
    "incdf = pd.DataFrame(incdict)"
   ]
  },
  {
   "cell_type": "code",
   "execution_count": 9,
   "metadata": {},
   "outputs": [],
   "source": [
    "newincdf = pd.DataFrame()\n",
    "highincdf = pd.DataFrame()\n",
    "newmortdf = pd.DataFrame()\n",
    "highmortdf = pd.DataFrame()\n",
    "for cancer in leading_cancer_sites:\n",
    "    if cancer in [\"Prostate\",\"Colon and Rectum\", \"Breast\", \"Lung and Bronchus\"]:\n",
    "        highincdf[cancer] = incdf.loc[cancer]\n",
    "        highmortdf[cancer] = mortdf.loc[cancer]\n",
    "    else:\n",
    "        newincdf[cancer] = incdf.loc[cancer]\n",
    "        newmortdf[cancer] = mortdf.loc[cancer]\n",
    "newincdf = newincdf.T\n",
    "highincdf = highincdf.T\n",
    "newmortdf = newmortdf.T\n",
    "highmortdf = highmortdf.T"
   ]
  },
  {
   "cell_type": "code",
   "execution_count": 10,
   "metadata": {},
   "outputs": [],
   "source": [
    "def cancerdf(cancer):\n",
    "    cancerdf = pd.DataFrame()\n",
    "    cancerdf[\"Incidence\"] = incdf.loc[cancer]\n",
    "    cancerdf[\"Mortality\"] = mortdf.loc[cancer]\n",
    "    cancerdf = cancerdf.T\n",
    "    return cancerdf"
   ]
  },
  {
   "cell_type": "code",
   "execution_count": 11,
   "metadata": {},
   "outputs": [
    {
     "data": {
      "text/plain": [
       "<matplotlib.legend.Legend at 0x7f9ebd531f28>"
      ]
     },
     "execution_count": 11,
     "metadata": {},
     "output_type": "execute_result"
    },
    {
     "data": {
      "image/png": "[encoded data removed]",
      "text/plain": [
       "<Figure size 432x288 with 1 Axes>"
      ]
     },
     "metadata": {
      "needs_background": "light"
     },
     "output_type": "display_data"
    }
   ],
   "source": [
    "breastdf = cancerdf(\"Breast\")\n",
    "breastdf[races].plot(kind=\"bar\")\n",
    "plt.xticks(size=16, rotation=0)\n",
    "plt.yticks(size=16)\n",
    "plt.legend(title=\"Race\")"
   ]
  },
  {
   "cell_type": "code",
   "execution_count": 12,
   "metadata": {},
   "outputs": [],
   "source": [
    "mortdict2005 = {}\n",
    "incdict2005 = {}\n",
    "for race in races:\n",
    "    mortdict2005[race] = mortbyrace(race, \"2005\")\n",
    "    incdict2005[race] = incbyrace(race, \"2005\")\n",
    "mortdf2005 = pd.DataFrame(mortdict2005)\n",
    "incdf2005 = pd.DataFrame(incdict2005)"
   ]
  },
  {
   "cell_type": "code",
   "execution_count": 13,
   "metadata": {},
   "outputs": [],
   "source": [
    "lungdf2005 = pd.DataFrame()\n",
    "lungdf2005[\"Incidence\"] = incdf2005.loc[cancer]\n",
    "lungdf2005[\"Mortality\"] = mortdf2005.loc[cancer]\n",
    "lungdf2005 = lungdf2005.T"
   ]
  },
  {
   "cell_type": "code",
   "execution_count": 14,
   "metadata": {},
   "outputs": [
    {
     "data": {
      "text/plain": [
       "<matplotlib.legend.Legend at 0x7f9ebd427d30>"
      ]
     },
     "execution_count": 14,
     "metadata": {},
     "output_type": "execute_result"
    },
    {
     "data": {
      "image/png": "[encoded data removed]",
      "text/plain": [
       "<Figure size 432x288 with 1 Axes>"
      ]
     },
     "metadata": {
      "needs_background": "light"
     },
     "output_type": "display_data"
    }
   ],
   "source": [
    "#2005\n",
    "lungdf = cancerdf(\"Lung and Bronchus\")\n",
    "lungdf2005[races].plot(kind=\"bar\")\n",
    "plt.legend(loc=\"upper right\")\n",
    "#https://www.lung.org/lung-health-diseases/lung-disease-lookup/lung-cancer/resource-library/lung-cancer-fact-sheet\n",
    "#accounts for 25% of all cancer deaths in a year\n",
    "#peaked in 2005, has decrease since"
   ]
  },
  {
   "cell_type": "code",
   "execution_count": 15,
   "metadata": {},
   "outputs": [],
   "source": [
    "mortdict2016 = {}\n",
    "incdict2016 = {}\n",
    "for race in races:\n",
    "    mortdict2016[race] = mortbyrace(race, \"2016\")\n",
    "    incdict2016[race] = incbyrace(race, \"2016\")\n",
    "mortdf2016 = pd.DataFrame(mortdict2016)\n",
    "incdf2016 = pd.DataFrame(incdict2016)"
   ]
  },
  {
   "cell_type": "code",
   "execution_count": 16,
   "metadata": {},
   "outputs": [],
   "source": [
    "lungdf2016 = pd.DataFrame()\n",
    "lungdf2016[\"Incidence\"] = incdf2016.loc[cancer]\n",
    "lungdf2016[\"Mortality\"] = mortdf2016.loc[cancer]\n",
    "lungdf2016 = lungdf2016.T"
   ]
  },
  {
   "cell_type": "code",
   "execution_count": 17,
   "metadata": {},
   "outputs": [
    {
     "data": {
      "text/plain": [
       "<matplotlib.axes._subplots.AxesSubplot at 0x7f9ebd3fbb70>"
      ]
     },
     "execution_count": 17,
     "metadata": {},
     "output_type": "execute_result"
    },
    {
     "data": {
      "image/png": "[encoded data removed]",
      "text/plain": [
       "<Figure size 432x288 with 1 Axes>"
      ]
     },
     "metadata": {
      "needs_background": "light"
     },
     "output_type": "display_data"
    }
   ],
   "source": [
    "lungdf2016[races].plot(kind=\"bar\")"
   ]
  },
  {
   "cell_type": "code",
   "execution_count": 18,
   "metadata": {},
   "outputs": [],
   "source": [
    "mortdict1999 = {}\n",
    "incdict1999 = {}\n",
    "for race in races:\n",
    "    mortdict1999[race] = mortbyrace(race, \"1999\")\n",
    "    incdict1999[race] = incbyrace(race, \"1999\")\n",
    "mortdf1999 = pd.DataFrame(mortdict1999)\n",
    "incdf1999 = pd.DataFrame(incdict1999)"
   ]
  },
  {
   "cell_type": "code",
   "execution_count": 19,
   "metadata": {},
   "outputs": [],
   "source": [
    "lungdf1999 = pd.DataFrame()\n",
    "lungdf1999[\"Incidence\"] = incdf1999.loc[cancer]\n",
    "lungdf1999[\"Mortality\"] = mortdf1999.loc[cancer]\n",
    "lungdf1999 = lungdf1999.T"
   ]
  },
  {
   "cell_type": "code",
   "execution_count": 20,
   "metadata": {},
   "outputs": [
    {
     "data": {
      "text/plain": [
       "<matplotlib.axes._subplots.AxesSubplot at 0x7f9ebae1f4a8>"
      ]
     },
     "execution_count": 20,
     "metadata": {},
     "output_type": "execute_result"
    },
    {
     "data": {
      "image/png": "[encoded data removed]",
      "text/plain": [
       "<Figure size 432x288 with 1 Axes>"
      ]
     },
     "metadata": {
      "needs_background": "light"
     },
     "output_type": "display_data"
    }
   ],
   "source": [
    "lungdf1999[races].plot(kind=\"bar\")"
   ]
  },
  {
   "cell_type": "code",
   "execution_count": 21,
   "metadata": {},
   "outputs": [],
   "source": [
    "mortdict2010 = {}\n",
    "incdict2010 = {}\n",
    "for race in races:\n",
    "    mortdict2010[race] = mortbyrace(race, \"2010\")\n",
    "    incdict2010[race] = incbyrace(race, \"2010\")\n",
    "mortdf2010 = pd.DataFrame(mortdict2010)\n",
    "incdf2010 = pd.DataFrame(incdict2010)"
   ]
  },
  {
   "cell_type": "code",
   "execution_count": 22,
   "metadata": {},
   "outputs": [],
   "source": [
    "lungdf2010 = pd.DataFrame()\n",
    "lungdf2010[\"Incidence\"] = incdf2010.loc[cancer]\n",
    "lungdf2010[\"Mortality\"] = mortdf2010.loc[cancer]\n",
    "lungdf2010 = lungdf2010.T"
   ]
  },
  {
   "cell_type": "code",
   "execution_count": 23,
   "metadata": {},
   "outputs": [],
   "source": [
    "mortdict2007 = {}\n",
    "incdict2007 = {}\n",
    "for race in races:\n",
    "    mortdict2007[race] = mortbyrace(race, \"2007\")\n",
    "    incdict2007[race] = incbyrace(race, \"2007\")\n",
    "mortdf2007 = pd.DataFrame(mortdict2007)\n",
    "incdf2007 = pd.DataFrame(incdict2007)"
   ]
  },
  {
   "cell_type": "code",
   "execution_count": 24,
   "metadata": {},
   "outputs": [],
   "source": [
    "lungdf2007 = pd.DataFrame()\n",
    "lungdf2007[\"Incidence\"] = incdf2007.loc[cancer]\n",
    "lungdf2007[\"Mortality\"] = mortdf2007.loc[cancer]\n",
    "lungdf2007 = lungdf2007.T"
   ]
  },
  {
   "cell_type": "code",
   "execution_count": 25,
   "metadata": {},
   "outputs": [
    {
     "data": {
      "image/png": "[encoded data removed]",
      "text/plain": [
       "<Figure size 864x504 with 4 Axes>"
      ]
     },
     "metadata": {
      "needs_background": "light"
     },
     "output_type": "display_data"
    }
   ],
   "source": [
    "fig, (ax1, ax2, ax3, ax4) = plt.subplots(1, 4, sharex=True, figsize=(12,7))\n",
    "ax1.set_ylabel('Total Age Adjusted Rate (per 100,000)', size=16)\n",
    "lungdf1999[races].plot(ax=ax1, kind=\"bar\")\n",
    "lungdf2005[races].plot(ax=ax2, kind=\"bar\")\n",
    "lungdf2010[races].plot(ax=ax3, kind=\"bar\")\n",
    "lungdf2016[races].plot(ax=ax4, kind=\"bar\")\n",
    "fig.subplots_adjust(wspace = 0.75, hspace=0.5)\n",
    "ax1.get_legend().remove()\n",
    "ax2.get_legend().remove()\n",
    "ax3.get_legend().remove()\n",
    "ax4.legend(loc='upper right', bbox_to_anchor=(3.25, 1), title=\"Race\")\n",
    "ax1.set_title(\"1999\", size=16)\n",
    "ax2.set_title(\"2005\", size=16)\n",
    "ax3.set_title(\"2010\", size=16)\n",
    "ax4.set_title(\"2016\", size=16)\n",
    "ax1.tick_params(axis='x', labelsize=15, rotation=45)\n",
    "ax2.tick_params(axis='x', labelsize=15, rotation=45)\n",
    "ax3.tick_params(axis='x', labelsize=15, rotation=45)\n",
    "ax4.tick_params(axis='x', labelsize=15, rotation=45)"
   ]
  },
  {
   "cell_type": "code",
   "execution_count": 26,
   "metadata": {},
   "outputs": [
    {
     "data": {
      "text/plain": [
       "<matplotlib.legend.Legend at 0x7f9ebac25358>"
      ]
     },
     "execution_count": 26,
     "metadata": {},
     "output_type": "execute_result"
    },
    {
     "data": {
      "image/png": "[encoded data removed]",
      "text/plain": [
       "<Figure size 432x288 with 1 Axes>"
      ]
     },
     "metadata": {
      "needs_background": "light"
     },
     "output_type": "display_data"
    }
   ],
   "source": [
    "lungdf[races].plot(kind=\"bar\")\n",
    "plt.legend(loc='upper right', bbox_to_anchor=(1.75, 1), title=\"Race\")"
   ]
  },
  {
   "cell_type": "code",
   "execution_count": 27,
   "metadata": {},
   "outputs": [
    {
     "data": {
      "text/plain": [
       "<matplotlib.legend.Legend at 0x7f9ebab77550>"
      ]
     },
     "execution_count": 27,
     "metadata": {},
     "output_type": "execute_result"
    },
    {
     "data": {
      "image/png": "[encoded data removed]",
      "text/plain": [
       "<Figure size 432x288 with 1 Axes>"
      ]
     },
     "metadata": {
      "needs_background": "light"
     },
     "output_type": "display_data"
    }
   ],
   "source": [
    "prostdf = cancerdf(\"Prostate\")\n",
    "prostdf[races].plot(kind=\"bar\")\n",
    "plt.legend(loc=\"upper right\")"
   ]
  },
  {
   "cell_type": "code",
   "execution_count": 28,
   "metadata": {},
   "outputs": [
    {
     "data": {
      "text/plain": [
       "<matplotlib.legend.Legend at 0x7f9ebaaf7550>"
      ]
     },
     "execution_count": 28,
     "metadata": {},
     "output_type": "execute_result"
    },
    {
     "data": {
      "image/png": "[encoded data removed]",
      "text/plain": [
       "<Figure size 432x288 with 1 Axes>"
      ]
     },
     "metadata": {
      "needs_background": "light"
     },
     "output_type": "display_data"
    }
   ],
   "source": [
    "colondf = cancerdf(\"Colon and Rectum\")\n",
    "colondf[races].plot(kind=\"bar\")\n",
    "plt.legend(loc=\"upper right\")"
   ]
  },
  {
   "cell_type": "code",
   "execution_count": 29,
   "metadata": {},
   "outputs": [
    {
     "data": {
      "text/plain": [
       "<matplotlib.axes._subplots.AxesSubplot at 0x7f9ebaa804a8>"
      ]
     },
     "execution_count": 29,
     "metadata": {},
     "output_type": "execute_result"
    },
    {
     "data": {
      "image/png": "[encoded data removed]",
      "text/plain": [
       "<Figure size 432x288 with 1 Axes>"
      ]
     },
     "metadata": {
      "needs_background": "light"
     },
     "output_type": "display_data"
    }
   ],
   "source": [
    "melanomadf = cancerdf(\"Melanoma of the Skin\")\n",
    "melanomadf[races].plot(kind=\"bar\")"
   ]
  },
  {
   "cell_type": "code",
   "execution_count": 30,
   "metadata": {},
   "outputs": [
    {
     "data": {
      "text/plain": [
       "<matplotlib.legend.Legend at 0x7f9eba7ab9e8>"
      ]
     },
     "execution_count": 30,
     "metadata": {},
     "output_type": "execute_result"
    },
    {
     "data": {
      "image/png": "[encoded data removed]",
      "text/plain": [
       "<Figure size 1440x1080 with 1 Axes>"
      ]
     },
     "metadata": {
      "needs_background": "light"
     },
     "output_type": "display_data"
    }
   ],
   "source": [
    "mortdf[races].plot(kind=\"bar\", stacked=True, figsize=(20,15))\n",
    "plt.ylabel(\"Mortality Age-Adjusted Rate (per 100,000)\", size=20)\n",
    "plt.xlabel(\"Type of Cancer\", size=20)\n",
    "plt.xticks(size=14)\n",
    "plt.yticks(size=14)\n",
    "plt.title(\"Mortality by Race for Types of Cancer\", size=24)\n",
    "plt.legend(title = \"Race\", loc=\"best\")"
   ]
  },
  {
   "cell_type": "code",
   "execution_count": 31,
   "metadata": {},
   "outputs": [
    {
     "data": {
      "text/plain": [
       "<matplotlib.legend.Legend at 0x7f9eba9fbe80>"
      ]
     },
     "execution_count": 31,
     "metadata": {},
     "output_type": "execute_result"
    },
    {
     "data": {
      "image/png": "[encoded data removed]",
      "text/plain": [
       "<Figure size 1440x1080 with 1 Axes>"
      ]
     },
     "metadata": {
      "needs_background": "light"
     },
     "output_type": "display_data"
    }
   ],
   "source": [
    "highincdf[races].plot(kind=\"bar\", stacked=True, figsize=(20,15))\n",
    "plt.ylabel(\"Incidence Age-Adjusted Rate (per 100,000)\", size=20)\n",
    "plt.xlabel(\"Type of Cancer\", size=20)\n",
    "plt.xticks(size=14)\n",
    "plt.yticks(size=14)\n",
    "plt.title(\"Incidence by Race for Types of Cancer\", size=24)\n",
    "plt.legend(title = \"Race\")"
   ]
  },
  {
   "cell_type": "code",
   "execution_count": null,
   "metadata": {},
   "outputs": [],
   "source": []
  },
  {
   "cell_type": "code",
   "execution_count": null,
   "metadata": {},
   "outputs": [],
   "source": []
  },
  {
   "cell_type": "code",
   "execution_count": 32,
   "metadata": {},
   "outputs": [],
   "source": [
    "funding_data = pd.read_csv(\"Funding Data.csv\")\n",
    "\n",
    "for index, row in funding_data.iterrows():\n",
    "    for col in funding_data.columns:\n",
    "        if funding_data.at[index, col] == \"*\" or funding_data.at[index, col] == \"**\" or funding_data.at[index, col] == \"---\":\n",
    "            funding_data.at[index, col] = np.nan\n",
    "\n",
    "for col in funding_data.columns[1:]:\n",
    "    funding_data[col] = funding_data[col].astype(\"float\")\n",
    "\n",
    "cancertypes = list(set(list(funding_data[\"Unnamed: 0\"])))"
   ]
  },
  {
   "cell_type": "code",
   "execution_count": null,
   "metadata": {},
   "outputs": [],
   "source": []
  },
  {
   "cell_type": "code",
   "execution_count": null,
   "metadata": {},
   "outputs": [],
   "source": []
  },
  {
   "cell_type": "code",
   "execution_count": null,
   "metadata": {},
   "outputs": [],
   "source": []
  },
  {
   "cell_type": "code",
   "execution_count": null,
   "metadata": {},
   "outputs": [],
   "source": []
  },
  {
   "cell_type": "code",
   "execution_count": null,
   "metadata": {},
   "outputs": [],
   "source": [
    "\n"
   ]
  },
  {
   "cell_type": "code",
   "execution_count": null,
   "metadata": {},
   "outputs": [],
   "source": [
    "\n",
    "    "
   ]
  },
  {
   "cell_type": "code",
   "execution_count": null,
   "metadata": {},
   "outputs": [],
   "source": []
  },
  {
   "cell_type": "code",
   "execution_count": null,
   "metadata": {},
   "outputs": [],
   "source": []
  },
  {
   "cell_type": "code",
   "execution_count": 33,
   "metadata": {},
   "outputs": [
    {
     "data": {
      "text/plain": [
       "18214.0"
      ]
     },
     "execution_count": 33,
     "metadata": {},
     "output_type": "execute_result"
    }
   ],
   "source": [
    "funding_data[\"Medicare Spend$ (millions)\"].sum()"
   ]
  },
  {
   "cell_type": "code",
   "execution_count": 34,
   "metadata": {},
   "outputs": [
    {
     "data": {
      "text/plain": [
       "359.30999999999995"
      ]
     },
     "execution_count": 34,
     "metadata": {},
     "output_type": "execute_result"
    }
   ],
   "source": [
    "funding_data[\"AYLL\"].sum()"
   ]
  },
  {
   "cell_type": "code",
   "execution_count": 35,
   "metadata": {},
   "outputs": [
    {
     "data": {
      "text/plain": [
       "2811.2"
      ]
     },
     "execution_count": 35,
     "metadata": {},
     "output_type": "execute_result"
    }
   ],
   "source": [
    "funding_data[\"NCI Funding (millions)\"].sum()"
   ]
  },
  {
   "cell_type": "code",
   "execution_count": 36,
   "metadata": {},
   "outputs": [
    {
     "data": {
      "text/plain": [
       "138.25999999999996"
      ]
     },
     "execution_count": 36,
     "metadata": {},
     "output_type": "execute_result"
    }
   ],
   "source": [
    "funding_data[\"YLLPI\"].sum()"
   ]
  },
  {
   "cell_type": "code",
   "execution_count": 37,
   "metadata": {},
   "outputs": [
    {
     "data": {
      "text/html": [
       "<div>\n",
       "<style scoped>\n",
       "    .dataframe tbody tr th:only-of-type {\n",
       "        vertical-align: middle;\n",
       "    }\n",
       "\n",
       "    .dataframe tbody tr th {\n",
       "        vertical-align: top;\n",
       "    }\n",
       "\n",
       "    .dataframe thead th {\n",
       "        text-align: right;\n",
       "    }\n",
       "</style>\n",
       "<table border=\"1\" class=\"dataframe\">\n",
       "  <thead>\n",
       "    <tr style=\"text-align: right;\">\n",
       "      <th></th>\n",
       "      <th>Unnamed: 0</th>\n",
       "      <th>Incidence</th>\n",
       "      <th>Mort.</th>\n",
       "      <th>US Gov't YLL (thousands)</th>\n",
       "      <th>WHO DALY (thousands)</th>\n",
       "      <th>Medicare Spend$ (millions)</th>\n",
       "      <th>National spend $ (billions)</th>\n",
       "      <th>Lost prod. (billions)</th>\n",
       "      <th>NCI Funding (millions)</th>\n",
       "      <th>AYLL</th>\n",
       "      <th>YLLPI</th>\n",
       "      <th>percentage</th>\n",
       "      <th>ratio fund/yll</th>\n",
       "    </tr>\n",
       "  </thead>\n",
       "  <tbody>\n",
       "    <tr>\n",
       "      <th>0</th>\n",
       "      <td>Bladder</td>\n",
       "      <td>70530.0</td>\n",
       "      <td>14680.0</td>\n",
       "      <td>154.4</td>\n",
       "      <td>128.7</td>\n",
       "      <td>1023.0</td>\n",
       "      <td>3.466</td>\n",
       "      <td>1.977</td>\n",
       "      <td>22.6</td>\n",
       "      <td>10.52</td>\n",
       "      <td>2.19</td>\n",
       "      <td>0.008039</td>\n",
       "      <td>2.148289</td>\n",
       "    </tr>\n",
       "    <tr>\n",
       "      <th>1</th>\n",
       "      <td>Brain, ONS</td>\n",
       "      <td>22020.0</td>\n",
       "      <td>13140.0</td>\n",
       "      <td>290.8</td>\n",
       "      <td>NaN</td>\n",
       "      <td>293.0</td>\n",
       "      <td>3.715</td>\n",
       "      <td>5.851</td>\n",
       "      <td>193.1</td>\n",
       "      <td>22.13</td>\n",
       "      <td>13.21</td>\n",
       "      <td>0.068690</td>\n",
       "      <td>8.725712</td>\n",
       "    </tr>\n",
       "    <tr>\n",
       "      <th>2</th>\n",
       "      <td>Breast</td>\n",
       "      <td>209060.0</td>\n",
       "      <td>40230.0</td>\n",
       "      <td>761.3</td>\n",
       "      <td>612.5</td>\n",
       "      <td>1375.0</td>\n",
       "      <td>13.886</td>\n",
       "      <td>10.879</td>\n",
       "      <td>631.2</td>\n",
       "      <td>18.92</td>\n",
       "      <td>3.64</td>\n",
       "      <td>0.224530</td>\n",
       "      <td>33.361522</td>\n",
       "    </tr>\n",
       "    <tr>\n",
       "      <th>3</th>\n",
       "      <td>Cervix</td>\n",
       "      <td>12200.0</td>\n",
       "      <td>4210.0</td>\n",
       "      <td>104.7</td>\n",
       "      <td>114.1</td>\n",
       "      <td>73.0</td>\n",
       "      <td>1.425</td>\n",
       "      <td>1.808</td>\n",
       "      <td>76.5</td>\n",
       "      <td>24.87</td>\n",
       "      <td>8.58</td>\n",
       "      <td>0.027213</td>\n",
       "      <td>3.075995</td>\n",
       "    </tr>\n",
       "    <tr>\n",
       "      <th>4</th>\n",
       "      <td>Colon/rectum</td>\n",
       "      <td>142570.0</td>\n",
       "      <td>51370.0</td>\n",
       "      <td>764.6</td>\n",
       "      <td>542.1</td>\n",
       "      <td>3101.0</td>\n",
       "      <td>12.155</td>\n",
       "      <td>12.802</td>\n",
       "      <td>270.4</td>\n",
       "      <td>14.88</td>\n",
       "      <td>5.36</td>\n",
       "      <td>0.096187</td>\n",
       "      <td>18.172043</td>\n",
       "    </tr>\n",
       "    <tr>\n",
       "      <th>5</th>\n",
       "      <td>Esophogus</td>\n",
       "      <td>16640.0</td>\n",
       "      <td>14500.0</td>\n",
       "      <td>214.2</td>\n",
       "      <td>122.0</td>\n",
       "      <td>386.0</td>\n",
       "      <td>1.071</td>\n",
       "      <td>NaN</td>\n",
       "      <td>30.5</td>\n",
       "      <td>14.77</td>\n",
       "      <td>12.87</td>\n",
       "      <td>0.010849</td>\n",
       "      <td>2.064997</td>\n",
       "    </tr>\n",
       "    <tr>\n",
       "      <th>6</th>\n",
       "      <td>Hogkin lymph.</td>\n",
       "      <td>8490.0</td>\n",
       "      <td>1320.0</td>\n",
       "      <td>29.8</td>\n",
       "      <td>288.7</td>\n",
       "      <td>1350.0</td>\n",
       "      <td>10.168</td>\n",
       "      <td>0.829</td>\n",
       "      <td>14.6</td>\n",
       "      <td>22.58</td>\n",
       "      <td>3.51</td>\n",
       "      <td>0.005194</td>\n",
       "      <td>0.646590</td>\n",
       "    </tr>\n",
       "    <tr>\n",
       "      <th>7</th>\n",
       "      <td>Kidney</td>\n",
       "      <td>58240.0</td>\n",
       "      <td>13040.0</td>\n",
       "      <td>195.7</td>\n",
       "      <td>NaN</td>\n",
       "      <td>685.0</td>\n",
       "      <td>3.058</td>\n",
       "      <td>3.633</td>\n",
       "      <td>90.0</td>\n",
       "      <td>15.01</td>\n",
       "      <td>3.36</td>\n",
       "      <td>0.032015</td>\n",
       "      <td>5.996003</td>\n",
       "    </tr>\n",
       "    <tr>\n",
       "      <th>8</th>\n",
       "      <td>Leukemia</td>\n",
       "      <td>43050.0</td>\n",
       "      <td>21840.0</td>\n",
       "      <td>355.2</td>\n",
       "      <td>210.5</td>\n",
       "      <td>695.0</td>\n",
       "      <td>4.507</td>\n",
       "      <td>5.880</td>\n",
       "      <td>295.8</td>\n",
       "      <td>16.26</td>\n",
       "      <td>8.25</td>\n",
       "      <td>0.105222</td>\n",
       "      <td>18.191882</td>\n",
       "    </tr>\n",
       "    <tr>\n",
       "      <th>9</th>\n",
       "      <td>Liver</td>\n",
       "      <td>24120.0</td>\n",
       "      <td>18910.0</td>\n",
       "      <td>292.2</td>\n",
       "      <td>137.8</td>\n",
       "      <td>278.0</td>\n",
       "      <td>NaN</td>\n",
       "      <td>4.638</td>\n",
       "      <td>72.6</td>\n",
       "      <td>15.45</td>\n",
       "      <td>12.11</td>\n",
       "      <td>0.025825</td>\n",
       "      <td>4.699029</td>\n",
       "    </tr>\n",
       "    <tr>\n",
       "      <th>10</th>\n",
       "      <td>Lung</td>\n",
       "      <td>222520.0</td>\n",
       "      <td>157300.0</td>\n",
       "      <td>2369.0</td>\n",
       "      <td>1247.6</td>\n",
       "      <td>4238.0</td>\n",
       "      <td>10.315</td>\n",
       "      <td>38.953</td>\n",
       "      <td>281.9</td>\n",
       "      <td>15.06</td>\n",
       "      <td>10.65</td>\n",
       "      <td>0.100277</td>\n",
       "      <td>18.718459</td>\n",
       "    </tr>\n",
       "    <tr>\n",
       "      <th>11</th>\n",
       "      <td>Myeloma</td>\n",
       "      <td>20180.0</td>\n",
       "      <td>10650.0</td>\n",
       "      <td>148.1</td>\n",
       "      <td>NaN</td>\n",
       "      <td>NaN</td>\n",
       "      <td>NaN</td>\n",
       "      <td>NaN</td>\n",
       "      <td>48.5</td>\n",
       "      <td>13.91</td>\n",
       "      <td>7.34</td>\n",
       "      <td>0.017252</td>\n",
       "      <td>3.486700</td>\n",
       "    </tr>\n",
       "    <tr>\n",
       "      <th>12</th>\n",
       "      <td>NH Lymphoma</td>\n",
       "      <td>65540.0</td>\n",
       "      <td>20210.0</td>\n",
       "      <td>292.4</td>\n",
       "      <td>NaN</td>\n",
       "      <td>NaN</td>\n",
       "      <td>NaN</td>\n",
       "      <td>5.755</td>\n",
       "      <td>122.4</td>\n",
       "      <td>14.47</td>\n",
       "      <td>4.46</td>\n",
       "      <td>0.043540</td>\n",
       "      <td>8.458880</td>\n",
       "    </tr>\n",
       "    <tr>\n",
       "      <th>13</th>\n",
       "      <td>Oral,pharnyx</td>\n",
       "      <td>36540.0</td>\n",
       "      <td>7880.0</td>\n",
       "      <td>138.0</td>\n",
       "      <td>85.4</td>\n",
       "      <td>NaN</td>\n",
       "      <td>NaN</td>\n",
       "      <td>NaN</td>\n",
       "      <td>13.9</td>\n",
       "      <td>17.51</td>\n",
       "      <td>3.78</td>\n",
       "      <td>0.004945</td>\n",
       "      <td>0.793832</td>\n",
       "    </tr>\n",
       "    <tr>\n",
       "      <th>14</th>\n",
       "      <td>Ovary</td>\n",
       "      <td>21880.0</td>\n",
       "      <td>13850.0</td>\n",
       "      <td>248.8</td>\n",
       "      <td>145.0</td>\n",
       "      <td>507.0</td>\n",
       "      <td>4.379</td>\n",
       "      <td>2.945</td>\n",
       "      <td>112.3</td>\n",
       "      <td>17.96</td>\n",
       "      <td>11.37</td>\n",
       "      <td>0.039947</td>\n",
       "      <td>6.252784</td>\n",
       "    </tr>\n",
       "    <tr>\n",
       "      <th>15</th>\n",
       "      <td>Pancreas</td>\n",
       "      <td>43140.0</td>\n",
       "      <td>36800.0</td>\n",
       "      <td>498.4</td>\n",
       "      <td>237.7</td>\n",
       "      <td>771.0</td>\n",
       "      <td>1.884</td>\n",
       "      <td>7.058</td>\n",
       "      <td>97.1</td>\n",
       "      <td>13.54</td>\n",
       "      <td>11.55</td>\n",
       "      <td>0.034540</td>\n",
       "      <td>7.171344</td>\n",
       "    </tr>\n",
       "    <tr>\n",
       "      <th>16</th>\n",
       "      <td>Prostate</td>\n",
       "      <td>217730.0</td>\n",
       "      <td>32050.0</td>\n",
       "      <td>267.4</td>\n",
       "      <td>225.0</td>\n",
       "      <td>2294.0</td>\n",
       "      <td>9.862</td>\n",
       "      <td>3.538</td>\n",
       "      <td>300.5</td>\n",
       "      <td>8.34</td>\n",
       "      <td>1.23</td>\n",
       "      <td>0.106894</td>\n",
       "      <td>36.031175</td>\n",
       "    </tr>\n",
       "    <tr>\n",
       "      <th>17</th>\n",
       "      <td>Melanoma (skin)</td>\n",
       "      <td>68130.0</td>\n",
       "      <td>8700.0</td>\n",
       "      <td>150.7</td>\n",
       "      <td>120.6</td>\n",
       "      <td>181.0</td>\n",
       "      <td>1.906</td>\n",
       "      <td>3.298</td>\n",
       "      <td>102.3</td>\n",
       "      <td>17.32</td>\n",
       "      <td>2.21</td>\n",
       "      <td>0.036390</td>\n",
       "      <td>5.906467</td>\n",
       "    </tr>\n",
       "    <tr>\n",
       "      <th>18</th>\n",
       "      <td>Stomach</td>\n",
       "      <td>21000.0</td>\n",
       "      <td>10570.0</td>\n",
       "      <td>176.0</td>\n",
       "      <td>106.9</td>\n",
       "      <td>624.0</td>\n",
       "      <td>1.550</td>\n",
       "      <td>3.454</td>\n",
       "      <td>14.5</td>\n",
       "      <td>16.65</td>\n",
       "      <td>8.38</td>\n",
       "      <td>0.005158</td>\n",
       "      <td>0.870871</td>\n",
       "    </tr>\n",
       "    <tr>\n",
       "      <th>19</th>\n",
       "      <td>Testes</td>\n",
       "      <td>8480.0</td>\n",
       "      <td>350.0</td>\n",
       "      <td>11.8</td>\n",
       "      <td>NaN</td>\n",
       "      <td>NaN</td>\n",
       "      <td>NaN</td>\n",
       "      <td>0.472</td>\n",
       "      <td>6.3</td>\n",
       "      <td>33.71</td>\n",
       "      <td>1.39</td>\n",
       "      <td>0.002241</td>\n",
       "      <td>0.186888</td>\n",
       "    </tr>\n",
       "    <tr>\n",
       "      <th>20</th>\n",
       "      <td>Uterus</td>\n",
       "      <td>43470.0</td>\n",
       "      <td>7950.0</td>\n",
       "      <td>122.8</td>\n",
       "      <td>75.5</td>\n",
       "      <td>340.0</td>\n",
       "      <td>2.330</td>\n",
       "      <td>1.101</td>\n",
       "      <td>14.2</td>\n",
       "      <td>15.45</td>\n",
       "      <td>2.82</td>\n",
       "      <td>0.005051</td>\n",
       "      <td>0.919094</td>\n",
       "    </tr>\n",
       "  </tbody>\n",
       "</table>\n",
       "</div>"
      ],
      "text/plain": [
       "         Unnamed: 0  Incidence     Mort.  US Gov't YLL (thousands)  \\\n",
       "0           Bladder    70530.0   14680.0                     154.4   \n",
       "1        Brain, ONS    22020.0   13140.0                     290.8   \n",
       "2            Breast   209060.0   40230.0                     761.3   \n",
       "3            Cervix    12200.0    4210.0                     104.7   \n",
       "4      Colon/rectum   142570.0   51370.0                     764.6   \n",
       "5         Esophogus    16640.0   14500.0                     214.2   \n",
       "6     Hogkin lymph.     8490.0    1320.0                      29.8   \n",
       "7            Kidney    58240.0   13040.0                     195.7   \n",
       "8          Leukemia    43050.0   21840.0                     355.2   \n",
       "9             Liver    24120.0   18910.0                     292.2   \n",
       "10             Lung   222520.0  157300.0                    2369.0   \n",
       "11          Myeloma    20180.0   10650.0                     148.1   \n",
       "12      NH Lymphoma    65540.0   20210.0                     292.4   \n",
       "13     Oral,pharnyx    36540.0    7880.0                     138.0   \n",
       "14            Ovary    21880.0   13850.0                     248.8   \n",
       "15         Pancreas    43140.0   36800.0                     498.4   \n",
       "16         Prostate   217730.0   32050.0                     267.4   \n",
       "17  Melanoma (skin)    68130.0    8700.0                     150.7   \n",
       "18          Stomach    21000.0   10570.0                     176.0   \n",
       "19           Testes     8480.0     350.0                      11.8   \n",
       "20           Uterus    43470.0    7950.0                     122.8   \n",
       "\n",
       "    WHO DALY (thousands)  Medicare Spend$ (millions)  \\\n",
       "0                  128.7                      1023.0   \n",
       "1                    NaN                       293.0   \n",
       "2                  612.5                      1375.0   \n",
       "3                  114.1                        73.0   \n",
       "4                  542.1                      3101.0   \n",
       "5                  122.0                       386.0   \n",
       "6                  288.7                      1350.0   \n",
       "7                    NaN                       685.0   \n",
       "8                  210.5                       695.0   \n",
       "9                  137.8                       278.0   \n",
       "10                1247.6                      4238.0   \n",
       "11                   NaN                         NaN   \n",
       "12                   NaN                         NaN   \n",
       "13                  85.4                         NaN   \n",
       "14                 145.0                       507.0   \n",
       "15                 237.7                       771.0   \n",
       "16                 225.0                      2294.0   \n",
       "17                 120.6                       181.0   \n",
       "18                 106.9                       624.0   \n",
       "19                   NaN                         NaN   \n",
       "20                  75.5                       340.0   \n",
       "\n",
       "    National spend $ (billions)  Lost prod. (billions)  \\\n",
       "0                         3.466                  1.977   \n",
       "1                         3.715                  5.851   \n",
       "2                        13.886                 10.879   \n",
       "3                         1.425                  1.808   \n",
       "4                        12.155                 12.802   \n",
       "5                         1.071                    NaN   \n",
       "6                        10.168                  0.829   \n",
       "7                         3.058                  3.633   \n",
       "8                         4.507                  5.880   \n",
       "9                           NaN                  4.638   \n",
       "10                       10.315                 38.953   \n",
       "11                          NaN                    NaN   \n",
       "12                          NaN                  5.755   \n",
       "13                          NaN                    NaN   \n",
       "14                        4.379                  2.945   \n",
       "15                        1.884                  7.058   \n",
       "16                        9.862                  3.538   \n",
       "17                        1.906                  3.298   \n",
       "18                        1.550                  3.454   \n",
       "19                          NaN                  0.472   \n",
       "20                        2.330                  1.101   \n",
       "\n",
       "    NCI Funding (millions)   AYLL  YLLPI  percentage  ratio fund/yll  \n",
       "0                     22.6  10.52   2.19    0.008039        2.148289  \n",
       "1                    193.1  22.13  13.21    0.068690        8.725712  \n",
       "2                    631.2  18.92   3.64    0.224530       33.361522  \n",
       "3                     76.5  24.87   8.58    0.027213        3.075995  \n",
       "4                    270.4  14.88   5.36    0.096187       18.172043  \n",
       "5                     30.5  14.77  12.87    0.010849        2.064997  \n",
       "6                     14.6  22.58   3.51    0.005194        0.646590  \n",
       "7                     90.0  15.01   3.36    0.032015        5.996003  \n",
       "8                    295.8  16.26   8.25    0.105222       18.191882  \n",
       "9                     72.6  15.45  12.11    0.025825        4.699029  \n",
       "10                   281.9  15.06  10.65    0.100277       18.718459  \n",
       "11                    48.5  13.91   7.34    0.017252        3.486700  \n",
       "12                   122.4  14.47   4.46    0.043540        8.458880  \n",
       "13                    13.9  17.51   3.78    0.004945        0.793832  \n",
       "14                   112.3  17.96  11.37    0.039947        6.252784  \n",
       "15                    97.1  13.54  11.55    0.034540        7.171344  \n",
       "16                   300.5   8.34   1.23    0.106894       36.031175  \n",
       "17                   102.3  17.32   2.21    0.036390        5.906467  \n",
       "18                    14.5  16.65   8.38    0.005158        0.870871  \n",
       "19                     6.3  33.71   1.39    0.002241        0.186888  \n",
       "20                    14.2  15.45   2.82    0.005051        0.919094  "
      ]
     },
     "execution_count": 37,
     "metadata": {},
     "output_type": "execute_result"
    }
   ],
   "source": [
    "funding_data[\"percentage\"] = funding_data[\"NCI Funding (millions)\"] / funding_data[\"NCI Funding (millions)\"].sum()\n",
    "funding_data[\"ratio fund/yll\"] = funding_data[\"NCI Funding (millions)\"] / funding_data[\"AYLL\"]\n",
    "funding_data"
   ]
  },
  {
   "cell_type": "code",
   "execution_count": 38,
   "metadata": {},
   "outputs": [
    {
     "data": {
      "text/plain": [
       "2811.2"
      ]
     },
     "execution_count": 38,
     "metadata": {},
     "output_type": "execute_result"
    }
   ],
   "source": [
    "funding_data[\"NCI Funding (millions)\"].sum()"
   ]
  },
  {
   "cell_type": "code",
   "execution_count": 39,
   "metadata": {},
   "outputs": [
    {
     "data": {
      "text/plain": [
       "<matplotlib.axes._subplots.AxesSubplot at 0x7f9ebabf0ef0>"
      ]
     },
     "execution_count": 39,
     "metadata": {},
     "output_type": "execute_result"
    },
    {
     "data": {
      "image/png": "[encoded data removed]",
      "text/plain": [
       "<Figure size 432x288 with 1 Axes>"
      ]
     },
     "metadata": {
      "needs_background": "light"
     },
     "output_type": "display_data"
    }
   ],
   "source": [
    "funding_data.plot(x=\"Unnamed: 0\", y=[\"ratio fund/yll\", \"percentage\"], kind=\"bar\", stacked=True)"
   ]
  },
  {
   "cell_type": "code",
   "execution_count": 40,
   "metadata": {},
   "outputs": [
    {
     "data": {
      "image/png": "[encoded data removed]",
      "text/plain": [
       "<Figure size 864x576 with 1 Axes>"
      ]
     },
     "metadata": {
      "needs_background": "light"
     },
     "output_type": "display_data"
    }
   ],
   "source": [
    "fig, ax = plt.subplots(figsize=(12,8))\n",
    "ax.spines[\"top\"].set_visible(False)\n",
    "ax.spines[\"right\"].set_visible(False)\n",
    "funding_data.plot(ax=ax, x=\"Unnamed: 0\", y=\"NCI Funding (millions)\", kind=\"bar\", legend=False, color=\"grey\")\n",
    "plt.xlabel(\"Type of Cancer\", size=15, fontweight=\"bold\")\n",
    "plt.ylabel(\"NCI Funding (millions)\", size=15, fontweight=\"bold\")\n",
    "plt.title(\"Funding by Cancer\", size=15, fontweight=\"bold\")\n",
    "ax.get_figure().savefig(\"allfund.svg\", bbox_inches=\"tight\")"
   ]
  },
  {
   "cell_type": "code",
   "execution_count": 41,
   "metadata": {},
   "outputs": [],
   "source": [
    "top5=[\"Breast\", \"Colon/rectum\", \"Leukemia\", \"Lung\", \"Prostate\"]"
   ]
  },
  {
   "cell_type": "code",
   "execution_count": 42,
   "metadata": {},
   "outputs": [],
   "source": [
    "spending=[\"Medicare Spend$ (millions)\", \"National spend $ (billions)\", \"NCI Funding (millions)\"]\n",
    "newspending=[\"NCI Funding\", \"Medicare Spending\", \"National spend $ (billions)\"]"
   ]
  },
  {
   "cell_type": "code",
   "execution_count": 43,
   "metadata": {},
   "outputs": [
    {
     "data": {
      "text/html": [
       "<div>\n",
       "<style scoped>\n",
       "    .dataframe tbody tr th:only-of-type {\n",
       "        vertical-align: middle;\n",
       "    }\n",
       "\n",
       "    .dataframe tbody tr th {\n",
       "        vertical-align: top;\n",
       "    }\n",
       "\n",
       "    .dataframe thead th {\n",
       "        text-align: right;\n",
       "    }\n",
       "</style>\n",
       "<table border=\"1\" class=\"dataframe\">\n",
       "  <thead>\n",
       "    <tr style=\"text-align: right;\">\n",
       "      <th></th>\n",
       "      <th>Medicare Spend$ (millions)</th>\n",
       "      <th>National spend $ (billions)</th>\n",
       "      <th>NCI Funding (millions)</th>\n",
       "      <th>Medicare Spending</th>\n",
       "      <th>NCI Funding</th>\n",
       "    </tr>\n",
       "    <tr>\n",
       "      <th>Unnamed: 0</th>\n",
       "      <th></th>\n",
       "      <th></th>\n",
       "      <th></th>\n",
       "      <th></th>\n",
       "      <th></th>\n",
       "    </tr>\n",
       "  </thead>\n",
       "  <tbody>\n",
       "    <tr>\n",
       "      <th>Bladder</th>\n",
       "      <td>1023.0</td>\n",
       "      <td>3.466</td>\n",
       "      <td>22.6</td>\n",
       "      <td>1.023</td>\n",
       "      <td>0.0226</td>\n",
       "    </tr>\n",
       "    <tr>\n",
       "      <th>Brain, ONS</th>\n",
       "      <td>293.0</td>\n",
       "      <td>3.715</td>\n",
       "      <td>193.1</td>\n",
       "      <td>0.293</td>\n",
       "      <td>0.1931</td>\n",
       "    </tr>\n",
       "    <tr>\n",
       "      <th>Breast</th>\n",
       "      <td>1375.0</td>\n",
       "      <td>13.886</td>\n",
       "      <td>631.2</td>\n",
       "      <td>1.375</td>\n",
       "      <td>0.6312</td>\n",
       "    </tr>\n",
       "    <tr>\n",
       "      <th>Cervix</th>\n",
       "      <td>73.0</td>\n",
       "      <td>1.425</td>\n",
       "      <td>76.5</td>\n",
       "      <td>0.073</td>\n",
       "      <td>0.0765</td>\n",
       "    </tr>\n",
       "    <tr>\n",
       "      <th>Colon/rectum</th>\n",
       "      <td>3101.0</td>\n",
       "      <td>12.155</td>\n",
       "      <td>270.4</td>\n",
       "      <td>3.101</td>\n",
       "      <td>0.2704</td>\n",
       "    </tr>\n",
       "    <tr>\n",
       "      <th>Esophogus</th>\n",
       "      <td>386.0</td>\n",
       "      <td>1.071</td>\n",
       "      <td>30.5</td>\n",
       "      <td>0.386</td>\n",
       "      <td>0.0305</td>\n",
       "    </tr>\n",
       "    <tr>\n",
       "      <th>Hogkin lymph.</th>\n",
       "      <td>1350.0</td>\n",
       "      <td>10.168</td>\n",
       "      <td>14.6</td>\n",
       "      <td>1.350</td>\n",
       "      <td>0.0146</td>\n",
       "    </tr>\n",
       "    <tr>\n",
       "      <th>Kidney</th>\n",
       "      <td>685.0</td>\n",
       "      <td>3.058</td>\n",
       "      <td>90.0</td>\n",
       "      <td>0.685</td>\n",
       "      <td>0.0900</td>\n",
       "    </tr>\n",
       "    <tr>\n",
       "      <th>Leukemia</th>\n",
       "      <td>695.0</td>\n",
       "      <td>4.507</td>\n",
       "      <td>295.8</td>\n",
       "      <td>0.695</td>\n",
       "      <td>0.2958</td>\n",
       "    </tr>\n",
       "    <tr>\n",
       "      <th>Liver</th>\n",
       "      <td>278.0</td>\n",
       "      <td>NaN</td>\n",
       "      <td>72.6</td>\n",
       "      <td>0.278</td>\n",
       "      <td>0.0726</td>\n",
       "    </tr>\n",
       "    <tr>\n",
       "      <th>Lung</th>\n",
       "      <td>4238.0</td>\n",
       "      <td>10.315</td>\n",
       "      <td>281.9</td>\n",
       "      <td>4.238</td>\n",
       "      <td>0.2819</td>\n",
       "    </tr>\n",
       "    <tr>\n",
       "      <th>Myeloma</th>\n",
       "      <td>NaN</td>\n",
       "      <td>NaN</td>\n",
       "      <td>48.5</td>\n",
       "      <td>NaN</td>\n",
       "      <td>0.0485</td>\n",
       "    </tr>\n",
       "    <tr>\n",
       "      <th>NH Lymphoma</th>\n",
       "      <td>NaN</td>\n",
       "      <td>NaN</td>\n",
       "      <td>122.4</td>\n",
       "      <td>NaN</td>\n",
       "      <td>0.1224</td>\n",
       "    </tr>\n",
       "    <tr>\n",
       "      <th>Oral,pharnyx</th>\n",
       "      <td>NaN</td>\n",
       "      <td>NaN</td>\n",
       "      <td>13.9</td>\n",
       "      <td>NaN</td>\n",
       "      <td>0.0139</td>\n",
       "    </tr>\n",
       "    <tr>\n",
       "      <th>Ovary</th>\n",
       "      <td>507.0</td>\n",
       "      <td>4.379</td>\n",
       "      <td>112.3</td>\n",
       "      <td>0.507</td>\n",
       "      <td>0.1123</td>\n",
       "    </tr>\n",
       "    <tr>\n",
       "      <th>Pancreas</th>\n",
       "      <td>771.0</td>\n",
       "      <td>1.884</td>\n",
       "      <td>97.1</td>\n",
       "      <td>0.771</td>\n",
       "      <td>0.0971</td>\n",
       "    </tr>\n",
       "    <tr>\n",
       "      <th>Prostate</th>\n",
       "      <td>2294.0</td>\n",
       "      <td>9.862</td>\n",
       "      <td>300.5</td>\n",
       "      <td>2.294</td>\n",
       "      <td>0.3005</td>\n",
       "    </tr>\n",
       "    <tr>\n",
       "      <th>Melanoma (skin)</th>\n",
       "      <td>181.0</td>\n",
       "      <td>1.906</td>\n",
       "      <td>102.3</td>\n",
       "      <td>0.181</td>\n",
       "      <td>0.1023</td>\n",
       "    </tr>\n",
       "    <tr>\n",
       "      <th>Stomach</th>\n",
       "      <td>624.0</td>\n",
       "      <td>1.550</td>\n",
       "      <td>14.5</td>\n",
       "      <td>0.624</td>\n",
       "      <td>0.0145</td>\n",
       "    </tr>\n",
       "    <tr>\n",
       "      <th>Testes</th>\n",
       "      <td>NaN</td>\n",
       "      <td>NaN</td>\n",
       "      <td>6.3</td>\n",
       "      <td>NaN</td>\n",
       "      <td>0.0063</td>\n",
       "    </tr>\n",
       "    <tr>\n",
       "      <th>Uterus</th>\n",
       "      <td>340.0</td>\n",
       "      <td>2.330</td>\n",
       "      <td>14.2</td>\n",
       "      <td>0.340</td>\n",
       "      <td>0.0142</td>\n",
       "    </tr>\n",
       "  </tbody>\n",
       "</table>\n",
       "</div>"
      ],
      "text/plain": [
       "                 Medicare Spend$ (millions)  National spend $ (billions)  \\\n",
       "Unnamed: 0                                                                 \n",
       "Bladder                              1023.0                        3.466   \n",
       "Brain, ONS                            293.0                        3.715   \n",
       "Breast                               1375.0                       13.886   \n",
       "Cervix                                 73.0                        1.425   \n",
       "Colon/rectum                         3101.0                       12.155   \n",
       "Esophogus                             386.0                        1.071   \n",
       "Hogkin lymph.                        1350.0                       10.168   \n",
       "Kidney                                685.0                        3.058   \n",
       "Leukemia                              695.0                        4.507   \n",
       "Liver                                 278.0                          NaN   \n",
       "Lung                                 4238.0                       10.315   \n",
       "Myeloma                                 NaN                          NaN   \n",
       "NH Lymphoma                             NaN                          NaN   \n",
       "Oral,pharnyx                            NaN                          NaN   \n",
       "Ovary                                 507.0                        4.379   \n",
       "Pancreas                              771.0                        1.884   \n",
       "Prostate                             2294.0                        9.862   \n",
       "Melanoma (skin)                       181.0                        1.906   \n",
       "Stomach                               624.0                        1.550   \n",
       "Testes                                  NaN                          NaN   \n",
       "Uterus                                340.0                        2.330   \n",
       "\n",
       "                 NCI Funding (millions)  Medicare Spending  NCI Funding  \n",
       "Unnamed: 0                                                               \n",
       "Bladder                            22.6              1.023       0.0226  \n",
       "Brain, ONS                        193.1              0.293       0.1931  \n",
       "Breast                            631.2              1.375       0.6312  \n",
       "Cervix                             76.5              0.073       0.0765  \n",
       "Colon/rectum                      270.4              3.101       0.2704  \n",
       "Esophogus                          30.5              0.386       0.0305  \n",
       "Hogkin lymph.                      14.6              1.350       0.0146  \n",
       "Kidney                             90.0              0.685       0.0900  \n",
       "Leukemia                          295.8              0.695       0.2958  \n",
       "Liver                              72.6              0.278       0.0726  \n",
       "Lung                              281.9              4.238       0.2819  \n",
       "Myeloma                            48.5                NaN       0.0485  \n",
       "NH Lymphoma                       122.4                NaN       0.1224  \n",
       "Oral,pharnyx                       13.9                NaN       0.0139  \n",
       "Ovary                             112.3              0.507       0.1123  \n",
       "Pancreas                           97.1              0.771       0.0971  \n",
       "Prostate                          300.5              2.294       0.3005  \n",
       "Melanoma (skin)                   102.3              0.181       0.1023  \n",
       "Stomach                            14.5              0.624       0.0145  \n",
       "Testes                              6.3                NaN       0.0063  \n",
       "Uterus                             14.2              0.340       0.0142  "
      ]
     },
     "execution_count": 43,
     "metadata": {},
     "output_type": "execute_result"
    }
   ],
   "source": [
    "fund = funding_data[[\"Unnamed: 0\"]+spending].set_index(\"Unnamed: 0\")\n",
    "fund[\"Medicare Spending\"] = fund[\"Medicare Spend$ (millions)\"]/1000\n",
    "fund[\"NCI Funding\"] = fund[\"NCI Funding (millions)\"] / 1000\n",
    "fund"
   ]
  },
  {
   "cell_type": "code",
   "execution_count": 44,
   "metadata": {},
   "outputs": [
    {
     "data": {
      "image/png": "[encoded data removed]",
      "text/plain": [
       "<Figure size 432x288 with 1 Axes>"
      ]
     },
     "metadata": {
      "needs_background": "light"
     },
     "output_type": "display_data"
    }
   ],
   "source": [
    "fig, ax = plt.subplots()\n",
    "ax.spines[\"top\"].set_visible(False)\n",
    "ax.spines[\"right\"].set_visible(False)\n",
    "#fund[newspending].plot(ax=ax, kind=\"bar\", stacked=True, figsize=(10,7), color=[\"lightgrey\", \"grey\", \"red\"], edgecolor=\"black\")"
   ]
  },
  {
   "cell_type": "code",
   "execution_count": 45,
   "metadata": {},
   "outputs": [],
   "source": [
    "newfunding= pd.DataFrame()\n",
    "for i in range(len(funding_data)):\n",
    "    if funding_data.iloc[i][\"Unnamed: 0\"] in top5:\n",
    "        newfunding[funding_data.iloc[i][\"Unnamed: 0\"]] = funding_data.iloc[i]\n",
    "newfunding=newfunding.T"
   ]
  },
  {
   "cell_type": "code",
   "execution_count": 46,
   "metadata": {},
   "outputs": [],
   "source": [
    "plotdf = newfunding[spending]\n",
    "plotdf = plotdf.astype(float)"
   ]
  },
  {
   "cell_type": "code",
   "execution_count": 47,
   "metadata": {},
   "outputs": [],
   "source": [
    "plotdf[\"Medicare Spending\"] = plotdf[\"Medicare Spend$ (millions)\"]/1000\n",
    "plotdf[\"NCI Funding\"] = plotdf[\"NCI Funding (millions)\"] / 1000"
   ]
  },
  {
   "cell_type": "code",
   "execution_count": 48,
   "metadata": {},
   "outputs": [
    {
     "data": {
      "text/plain": [
       "0.6331104154809335"
      ]
     },
     "execution_count": 48,
     "metadata": {},
     "output_type": "execute_result"
    }
   ],
   "source": [
    "plotdf[\"NCI Funding (millions)\"].sum()/funding_data[\"NCI Funding (millions)\"].sum()"
   ]
  },
  {
   "cell_type": "code",
   "execution_count": 49,
   "metadata": {},
   "outputs": [
    {
     "data": {
      "image/png": "[encoded data removed]",
      "text/plain": [
       "<Figure size 576x576 with 1 Axes>"
      ]
     },
     "metadata": {
      "needs_background": "light"
     },
     "output_type": "display_data"
    }
   ],
   "source": [
    "fig, ax = plt.subplots(figsize=(8,8))\n",
    "ax.spines[\"top\"].set_visible(False)\n",
    "ax.spines[\"right\"].set_visible(False)\n",
    "plotdf[newspending].plot(ax=ax, kind=\"bar\", stacked=True, color=[\"red\", \"grey\", \"lightgrey\"], edgecolor=\"black\")\n",
    "L = plt.legend(loc='upper right', bbox_to_anchor=(1.25, 1),fontsize=12)\n",
    "L.get_texts()[2].set_text('National Spending')\n",
    "plt.xlabel(\"Type of Cancer\", size=15, fontweight=\"bold\")\n",
    "plt.ylabel(\"Amount of Money (billions)\", size=15, fontweight=\"bold\")\n",
    "plt.title(\"Highest Funded Cancers\", size=15, fontweight=\"bold\")\n",
    "plt.xticks(rotation=0)\n",
    "ax.get_figure().savefig(\"topfund.svg\", bbox_inches=\"tight\")"
   ]
  },
  {
   "cell_type": "code",
   "execution_count": null,
   "metadata": {},
   "outputs": [],
   "source": []
  },
  {
   "cell_type": "code",
   "execution_count": null,
   "metadata": {},
   "outputs": [],
   "source": []
  }
 ],
 "metadata": {
  "kernelspec": {
   "display_name": "Python 3",
   "language": "python",
   "name": "python3"
  },
  "language_info": {
   "codemirror_mode": {
    "name": "ipython",
    "version": 3
   },
   "file_extension": ".py",
   "mimetype": "text/x-python",
   "name": "python",
   "nbconvert_exporter": "python",
   "pygments_lexer": "ipython3",
   "version": "3.6.9"
  }
 },
 "nbformat": 4,
 "nbformat_minor": 4
}
